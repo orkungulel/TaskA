{
 "cells": [
  {
   "cell_type": "markdown",
   "id": "a09d97ad-9707-4041-ab7c-1deae35fe61c",
   "metadata": {},
   "source": [
    "Task Description: Find information on solarpark investors, namely the size of the equity checks they are writing, the megawatts of the solarparks they are investing in, and in general whether they are investing in solarparks.\r\n",
    "\r\n",
    "Companies: ENVIRIA Energy Holding GmbH, ENREGO Energy GmbH, HIH Invest Real Estate Austria GmbH, Merkle Germany GmbH."
   ]
  },
  {
   "cell_type": "markdown",
   "id": "c55e77a1-57ee-4e1d-a3ec-1c4e3407a632",
   "metadata": {},
   "source": [
    "**Problem Breakdown:** \n",
    "1. Fetch HTML Content: Retrieve HTML content from a given URL.\n",
    "2. Parse HTML: Extract text from the HTML elements and links from the HTML content.\n",
    "3. URL Validation: Ensure the URLs are valid and within the same domain.\n",
    "4. Deep Search: Recursively follow links up to a specified # of websites.\n",
    "5. NLP Analysis: Analyze text using NLP to identify mentions of solar park investments.\n",
    "6. Display Results: Present the extracted information in a structured format."
   ]
  },
  {
   "cell_type": "markdown",
   "id": "7e630c3a-707f-49e8-9826-63f241ac51e3",
   "metadata": {},
   "source": [
    "**Detailed Explanation of the Task Solution:**\n",
    "1. Initial URL Fetching:\n",
    "   Start with a set of initial URLs for each company. \n",
    "   Fetch the HTML content of each initial URL.\n",
    "\n",
    "2. Parsing HTML Content:\n",
    "    Parse the fetched HTML content using a tool like BeautifulSoup to extract text from elements where data is availeble(be sure that not styles or    scripts) and links.\n",
    "    Store the text and links from the parsed content.\n",
    "   \n",
    "3. Recursively Follow Links:\n",
    "    For each link extracted from the initial page, fetch the HTML content of the linked page.\n",
    "    Parse the linked page's content to extract further text and links.\n",
    "    Repeat this process for each new link found, until you reach a specified depth or a maximum number of links.\n",
    "   \n",
    "5. Maximum Fetching Control:\n",
    "    Implement a counter or limit to control how deep the search goes. This prevents infinite recursion and ensures the search stops after a reasonable number of steps.\n",
    "\n",
    "6. Data Collection:\n",
    "    Collect and store relevant data (e.g., text content, links) from each page visited.\n",
    "    Ensure that you are not revisiting the same pages by maintaining a cache of visited URLs.\n",
    "\n",
    "7. Data Analysis:\n",
    "   In order to understand related information NLP with spaCy is used.\n",
    "   There are basically 2 methods defined. Both of them, almost gives same output(information).\n",
    "   While one method is using predefined model for natural language processing, the other one is using spacy component which is defined with patterns(matcher).\n",
    "\n",
    "8. Display Results:\n",
    "   Show the results achieved by using any method with websites, to check by hand."
   ]
  },
  {
   "cell_type": "raw",
   "id": "8bbb155a-1d42-472e-a8ab-88221909dada",
   "metadata": {},
   "source": [
    "Testing Main Functions: 3 main functions were tested by creating an example.\n",
    "    1. Test Pattern Method: "
   ]
  },
  {
   "cell_type": "code",
   "execution_count": 8,
   "id": "3164f33a-5277-45fb-bc82-79b85df80113",
   "metadata": {},
   "outputs": [
    {
     "name": "stdin",
     "output_type": "stream",
     "text": [
      "Do you want to run method Pattern[0] or method Predefined[1] for NLP?  0\n",
      "Do you want to run Task[0] or Test[1]?  1\n"
     ]
    },
    {
     "name": "stdout",
     "output_type": "stream",
     "text": [
      "Text Example: WindGen Corporation, a leader in renewable energy, has announced a substantial investment in wind energy projects. They are allocating above €10 million to develop wind farms in coastal regions known for high wind speeds. These farms will have turbines with capacities ranging from 2 MW to 10 MW each. WindGen aims to harness the power of wind to generate clean energy for thousands of homes and businesses. The first phase of the project includes installing 20 turbines by the end of next year, with plans for further expansion in the coming years.\n",
      "Investing in Solarparks: No\n",
      "Equity Check Sizes: N/A\n",
      "Power Capacities: N/A\n",
      "\n",
      "--------------------------------------------------\n",
      "\n",
      "Text Example: SolarPower Inc. has invested 50 million dollars in solarparks projects. The new solarparks are expected to generate over 100 MW of power, providing electricity to thousands of households. This investment marks a significant step towards sustainable energy solutions.\n",
      "Investing in Solarparks: Yes\n",
      "Equity Check Sizes: ['50 million dollars', 'million dollars']\n",
      "Power Capacities: ['over 100 MW', '100 MW']\n",
      "\n",
      "--------------------------------------------------\n",
      "\n",
      "Text Example: Green Energy Solutions is planning to invest $20 million in renewable energy. Their focus is on building solarparks and wind farms with a combined capacity of 500 megawatts (MW). This initiative aims to reduce carbon emissions and promote clean energy.\n",
      "Investing in Solarparks: Yes\n",
      "Equity Check Sizes: ['$20', '$20 million']\n",
      "Power Capacities: ['500 megawatts']\n",
      "\n",
      "--------------------------------------------------\n",
      "\n",
      "Text Example: Renewable Future Corp is investing 30 million euros in solar and wind energy projects. The new plants will have a capacity of 200 MW each, contributing significantly to the company's renewable energy portfolio.\n",
      "Investing in Solarparks: Yes\n",
      "Equity Check Sizes: ['30 million euros', 'million euros']\n",
      "Power Capacities: ['200 MW']\n",
      "\n",
      "--------------------------------------------------\n",
      "\n",
      "Text Example: Sunshine Renewables Ltd. has committed to funding a large-scale solarpark initiative in the desert region of Arizona. They plan to invest over $100 million in setting up solarparks with a total capacity of 1 GW (gigawatt). This ambitious project aims to provide clean energy to cities across the southwestern United States.\n",
      "Investing in Solarparks: Yes\n",
      "Equity Check Sizes: ['$100 million', '$100']\n",
      "Power Capacities: ['1 GW']\n",
      "\n",
      "--------------------------------------------------\n",
      "\n",
      "Text Example: EcoPower Solutions, a startup specializing in renewable energy, is seeking investors for their solarpark expansion project. They aim to raise $50 million to increase their solarpark capacity by 300 MW. This expansion will enhance their ability to meet growing demand for clean energy in urban areas.\n",
      "Investing in Solarparks: Yes\n",
      "Equity Check Sizes: ['$50 million', '$50']\n",
      "Power Capacities: ['300 MW']\n",
      "\n",
      "--------------------------------------------------\n",
      "\n",
      "Text Example: Global Energy Ventures, a multinational corporation, has announced a partnership with local governments to develop solarpark projects in multiple countries. They have earmarked $150 million for these projects, which are expected to generate a combined capacity of 500 MW. This initiative is part of their commitment to sustainable development goals.\n",
      "Investing in Solarparks: Yes\n",
      "Equity Check Sizes: ['$150 million', '$150']\n",
      "Power Capacities: ['500 MW']\n",
      "\n",
      "--------------------------------------------------\n",
      "\n",
      "Text Example: Wind and Solar Innovations Ltd. has secured funding of €80 million to expand their renewable energy portfolio. They are focusing on both wind farms and solarparks, with plans to develop projects with capacities ranging from 10 MW to 50 MW each. This investment underscores their commitment to clean energy solutions.\n",
      "Investing in Solarparks: Yes\n",
      "Equity Check Sizes: ['€80 million', '€80']\n",
      "Power Capacities: ['10 MW', '50 MW']\n",
      "\n",
      "--------------------------------------------------\n",
      "\n"
     ]
    }
   ],
   "source": [
    "%run main.py"
   ]
  },
  {
   "cell_type": "raw",
   "id": "f3a6a617-95bd-4cf8-b521-73bfd50a355d",
   "metadata": {},
   "source": [
    "    2. Test Predefined Method:"
   ]
  },
  {
   "cell_type": "code",
   "execution_count": 9,
   "id": "830209f9-06ac-486e-abeb-557dea606ce6",
   "metadata": {},
   "outputs": [
    {
     "name": "stdin",
     "output_type": "stream",
     "text": [
      "Do you want to run method Pattern[0] or method Predefined[1] for NLP?  1\n",
      "Do you want to run Task[0] or Test[1]?  1\n"
     ]
    },
    {
     "name": "stdout",
     "output_type": "stream",
     "text": [
      "Text Example: WindGen Corporation, a leader in renewable energy, has announced a substantial investment in wind energy projects. They are allocating above €10 million to develop wind farms in coastal regions known for high wind speeds. These farms will have turbines with capacities ranging from 2 MW to 10 MW each. WindGen aims to harness the power of wind to generate clean energy for thousands of homes and businesses. The first phase of the project includes installing 20 turbines by the end of next year, with plans for further expansion in the coming years.\n",
      "Investing in Solarparks: No\n",
      "Equity Check Sizes: N/A\n",
      "Power Capacities: N/A\n",
      "\n",
      "--------------------------------------------------\n",
      "\n",
      "Text Example: SolarPower Inc. has invested 50 million dollars in solarparks projects. The new solarparks are expected to generate over 100 MW of power, providing electricity to thousands of households. This investment marks a significant step towards sustainable energy solutions.\n",
      "Investing in Solarparks: Yes\n",
      "Equity Check Sizes: ['50 million dollars']\n",
      "Power Capacities: ['100 MW']\n",
      "\n",
      "--------------------------------------------------\n",
      "\n",
      "Text Example: Green Energy Solutions is planning to invest $20 million in renewable energy. Their focus is on building solarparks and wind farms with a combined capacity of 500 megawatts (MW). This initiative aims to reduce carbon emissions and promote clean energy.\n",
      "Investing in Solarparks: Yes\n",
      "Equity Check Sizes: ['$20 million']\n",
      "Power Capacities: ['500 megawatts']\n",
      "\n",
      "--------------------------------------------------\n",
      "\n",
      "Text Example: Renewable Future Corp is investing 30 million euros in solar and wind energy projects. The new plants will have a capacity of 200 MW each, contributing significantly to the company's renewable energy portfolio.\n",
      "Investing in Solarparks: Yes\n",
      "Equity Check Sizes: ['30 million euros']\n",
      "Power Capacities: ['200 MW']\n",
      "\n",
      "--------------------------------------------------\n",
      "\n",
      "Text Example: Sunshine Renewables Ltd. has committed to funding a large-scale solarpark initiative in the desert region of Arizona. They plan to invest over $100 million in setting up solarparks with a total capacity of 1 GW (gigawatt). This ambitious project aims to provide clean energy to cities across the southwestern United States.\n",
      "Investing in Solarparks: Yes\n",
      "Equity Check Sizes: ['over $100 million']\n",
      "Power Capacities: ['1 GW']\n",
      "\n",
      "--------------------------------------------------\n",
      "\n",
      "Text Example: EcoPower Solutions, a startup specializing in renewable energy, is seeking investors for their solarpark expansion project. They aim to raise $50 million to increase their solarpark capacity by 300 MW. This expansion will enhance their ability to meet growing demand for clean energy in urban areas.\n",
      "Investing in Solarparks: Yes\n",
      "Equity Check Sizes: ['$50 million']\n",
      "Power Capacities: ['300 MW']\n",
      "\n",
      "--------------------------------------------------\n",
      "\n",
      "Text Example: Global Energy Ventures, a multinational corporation, has announced a partnership with local governments to develop solarpark projects in multiple countries. They have earmarked $150 million for these projects, which are expected to generate a combined capacity of 500 MW. This initiative is part of their commitment to sustainable development goals.\n",
      "Investing in Solarparks: Yes\n",
      "Equity Check Sizes: ['$150 million']\n",
      "Power Capacities: ['500 MW']\n",
      "\n",
      "--------------------------------------------------\n",
      "\n",
      "Text Example: Wind and Solar Innovations Ltd. has secured funding of €80 million to expand their renewable energy portfolio. They are focusing on both wind farms and solarparks, with plans to develop projects with capacities ranging from 10 MW to 50 MW each. This investment underscores their commitment to clean energy solutions.\n",
      "Investing in Solarparks: Yes\n",
      "Equity Check Sizes: ['€80 million']\n",
      "Power Capacities: ['10 MW', '50 MW']\n",
      "\n",
      "--------------------------------------------------\n",
      "\n"
     ]
    }
   ],
   "source": [
    "%run main.py"
   ]
  },
  {
   "cell_type": "raw",
   "id": "06d010dd-e7ee-40b4-8039-7ab7c0845f57",
   "metadata": {},
   "source": [
    "    3. Finally test fetch website and parse_html:"
   ]
  },
  {
   "cell_type": "code",
   "execution_count": 11,
   "id": "5bfebaaa-013b-411b-af4c-6cde131cce46",
   "metadata": {},
   "outputs": [
    {
     "name": "stdout",
     "output_type": "stream",
     "text": [
      "[('Notice:While JavaScript is not essential for this website, your interaction with the content will be limited. Please turn JavaScript on for the full experience.Skip to content▼ClosePythonPSFDocsPyPIJobsCommunity▲The Python NetworkDonate≡MenuSearch This SiteGOAASmallerLargerResetSocializeLinkedInMastodonChat on IRCTwitterAboutApplicationsQuotesGetting StartedHelpPython BrochureDownloadsAll releasesSource codeWindowsmacOSOther PlatformsLicenseAlternative ImplementationsDocumentationDocsAudio/Visual TalksBeginner\\'s GuideDeveloper\\'s GuideFAQNon-English DocsPEP IndexPython BooksPython EssaysCommunityDiversityMailing ListsIRCForumsPSF Annual Impact ReportPython ConferencesSpecial Interest GroupsPython LogoPython WikiCode of ConductCommunity AwardsGet InvolvedShared StoriesSuccess StoriesArtsBusinessEducationEngineeringGovernmentScientificSoftware DevelopmentNewsPython NewsPSF NewsletterPSF NewsPyCon US NewsNews from the CommunityEventsPython EventsUser Group EventsPython Events ArchiveUser Group Events ArchiveSubmit an Event>_Launch Interactive Shell# Python 3: Fibonacci series up to n>>> def fib(n):\\r\\n>>>     a, b = 0, 1\\r\\n>>>     while a < n:\\r\\n>>>         print(a, end=\\' \\')\\r\\n>>>         a, b = b, a+b\\r\\n>>>     print()\\r\\n>>> fib(1000)0 1 1 2 3 5 8 13 21 34 55 89 144 233 377 610 987Functions DefinedThe core of extensible programming is defining functions. Python allows mandatory and optional arguments, keyword arguments, and even arbitrary argument lists.More about defining functions in Python\\xa03# Python 3: List comprehensions>>> fruits = [\\'Banana\\', \\'Apple\\', \\'Lime\\']\\r\\n>>> loud_fruits = [fruit.upper() for fruit in fruits]\\r\\n>>> print(loud_fruits)[\\'BANANA\\', \\'APPLE\\', \\'LIME\\']# List and the enumerate function>>> list(enumerate(fruits))[(0, \\'Banana\\'), (1, \\'Apple\\'), (2, \\'Lime\\')]Compound Data TypesLists (known as arrays in other languages) are one of the compound data types that Python understands. Lists can be indexed, sliced and manipulated with other built-in functions.More about lists in Python\\xa03# Python 3: Simple arithmetic>>> 1 / 20.5>>> 2 ** 38>>> 17 / 3# classic division returns a float5.666666666666667>>> 17 // 3# floor division5Intuitive InterpretationCalculations are simple with Python, and expression syntax is straightforward: the operators+,-,*and/work as expected; parentheses()can be used for grouping.More about simple math functions in Python\\xa03.# For loop on a list>>> numbers = [2, 4, 6, 8]\\r\\n>>> product = 1\\r\\n>>> for number in numbers:\\r\\n...    product = product * number\\r\\n... \\r\\n>>> print(\\'The product is:\\', product)The product is: 384All the Flow You’d ExpectPython knows the usual control flow statements that other languages speak —if,for,whileandrange— with some of its own twists, of course.More control flow tools in Python\\xa03# Simple output (with Unicode)>>> print(\"Hello, I\\'m Python!\")Hello, I\\'m Python!# Input, assignment>>> name = input(\\'What is your name?\\\\n\\')What is your name?\\r\\nPython>>> print(f\\'Hi, {name}.\\')Hi, Python.Quick & Easy to LearnExperienced programmers in any other language can pick up Python very quickly, and beginners find the clean syntax and indentation structure easy to learn.Whet your appetitewith our Python\\xa03 overview.Python is a programming language that lets you work quicklyand integrate systems more effectively.Learn MoreThe 2024 PSF Board Election is Open: If you are a voting member of the PSF that affirmed your intention to participate in this year’s election, we need your vote!More InfoGet StartedWhether you\\'re new to programming or an experienced developer, it\\'s easy to learn and use Python.Start with our Beginner’s GuideDownloadPython source code and installers are available for download for all versions!Latest:Python 3.12.4DocsDocumentation for Python\\'s standard library, along with tutorials and guides, are available online.docs.python.orgJobsLooking for work or have a Python related position that you\\'re trying to hire for? Ourrelaunched community-run job boardis the place to go.jobs.python.orgLatest NewsMore2024-07-11Announcing Our New Infrastructure Engineer2024-07-02The 2024 PSF Board Election is Open!2024-06-27Python 3.13.0 beta 3 released2024-06-27Announcing the PSF Board Candidates for 2024!2024-06-25FAQ for Proposed Changes to PSF BylawsUpcoming EventsMore2024-07-15Python Communities - University of Douala2024-07-17NZPUG-Auckland: Python, MongoDB, and AI2024-07-24PyLadies Amsterdam - Workshop (Basic-Intermediary level)2024-07-26PyCon Russia 20242024-07-27PyOhio 2024Success StoriesMoreEinblick reimagines the modern data science workflow in a collaborative data science canvas, rather than a linear notebook. Working in a canvas environment offers many advantages including live collaboration, an expansive visual interface, and a progressive computation engine. In this article, we’ll highlight one of the key ways we’re saving data scientists time–our operators. We’ll go through a couple of our core operators, why Python is such a crucial part of our software solution, and how we augmented our offerings with a user operator interface. The latter allows users to customize and use their own operators, which can be used in any Einblick canvas, and shared with other Einblick users.Reimagining data science with Python-based operators in Einblick’s visual canvasby Becca WengUse Python for…MoreWeb Development:Django,Pyramid,Bottle,Tornado,Flask,web2pyGUI Development:tkInter,PyGObject,PyQt,PySide,Kivy,wxPython,DearPyGuiScientific and Numeric:SciPy,Pandas,IPythonSoftware Development:Buildbot,Trac,RoundupSystem Administration:Ansible,Salt,OpenStack,xonsh>>>Python Enhancement Proposals(PEPs): The future of Pythonis discussed here.RSS>>>Python Software FoundationThe mission of the Python Software Foundation is to promote, protect, and advance the Python programming language, and to support and facilitate the growth of a diverse and international community of Python programmers.Learn moreBecome a MemberDonate to the PSF▲Back to TopAboutApplicationsQuotesGetting StartedHelpPython BrochureDownloadsAll releasesSource codeWindowsmacOSOther PlatformsLicenseAlternative ImplementationsDocumentationDocsAudio/Visual TalksBeginner\\'s GuideDeveloper\\'s GuideFAQNon-English DocsPEP IndexPython BooksPython EssaysCommunityDiversityMailing ListsIRCForumsPSF Annual Impact ReportPython ConferencesSpecial Interest GroupsPython LogoPython WikiCode of ConductCommunity AwardsGet InvolvedShared StoriesSuccess StoriesArtsBusinessEducationEngineeringGovernmentScientificSoftware DevelopmentNewsPython NewsPSF NewsletterPSF NewsPyCon US NewsNews from the CommunityEventsPython EventsUser Group EventsPython Events ArchiveUser Group Events ArchiveSubmit an EventContributingDeveloper\\'s GuideIssue Trackerpython-dev listCore MentorshipReport a Security Issue▲Back to TopHelp &GeneralContactDiversityInitiativesSubmit Website BugStatusCopyright ©2001-2024.Python Software FoundationLegal StatementsPrivacy Policy Notice:While JavaScript is not essential for this website, your interaction with the content will be limited. Please turn JavaScript on for the full experience. Notice:While JavaScript is not essential for this website, your interaction with the content will be limited. Please turn JavaScript on for the full experience. Skip to content▼ClosePythonPSFDocsPyPIJobsCommunity▲The Python Network Skip to content ▼ ▼ Python PSF Docs PyPI Jobs Community ▲ ▲ Donate≡MenuSearch This SiteGOAASmallerLargerResetSocializeLinkedInMastodonChat on IRCTwitterAboutApplicationsQuotesGetting StartedHelpPython BrochureDownloadsAll releasesSource codeWindowsmacOSOther PlatformsLicenseAlternative ImplementationsDocumentationDocsAudio/Visual TalksBeginner\\'s GuideDeveloper\\'s GuideFAQNon-English DocsPEP IndexPython BooksPython EssaysCommunityDiversityMailing ListsIRCForumsPSF Annual Impact ReportPython ConferencesSpecial Interest GroupsPython LogoPython WikiCode of ConductCommunity AwardsGet InvolvedShared StoriesSuccess StoriesArtsBusinessEducationEngineeringGovernmentScientificSoftware DevelopmentNewsPython NewsPSF NewsletterPSF NewsPyCon US NewsNews from the CommunityEventsPython EventsUser Group EventsPython Events ArchiveUser Group Events ArchiveSubmit an Event>_Launch Interactive Shell# Python 3: Fibonacci series up to n>>> def fib(n):\\r\\n>>>     a, b = 0, 1\\r\\n>>>     while a < n:\\r\\n>>>         print(a, end=\\' \\')\\r\\n>>>         a, b = b, a+b\\r\\n>>>     print()\\r\\n>>> fib(1000)0 1 1 2 3 5 8 13 21 34 55 89 144 233 377 610 987Functions DefinedThe core of extensible programming is defining functions. Python allows mandatory and optional arguments, keyword arguments, and even arbitrary argument lists.More about defining functions in Python\\xa03# Python 3: List comprehensions>>> fruits = [\\'Banana\\', \\'Apple\\', \\'Lime\\']\\r\\n>>> loud_fruits = [fruit.upper() for fruit in fruits]\\r\\n>>> print(loud_fruits)[\\'BANANA\\', \\'APPLE\\', \\'LIME\\']# List and the enumerate function>>> list(enumerate(fruits))[(0, \\'Banana\\'), (1, \\'Apple\\'), (2, \\'Lime\\')]Compound Data TypesLists (known as arrays in other languages) are one of the compound data types that Python understands. Lists can be indexed, sliced and manipulated with other built-in functions.More about lists in Python\\xa03# Python 3: Simple arithmetic>>> 1 / 20.5>>> 2 ** 38>>> 17 / 3# classic division returns a float5.666666666666667>>> 17 // 3# floor division5Intuitive InterpretationCalculations are simple with Python, and expression syntax is straightforward: the operators+,-,*and/work as expected; parentheses()can be used for grouping.More about simple math functions in Python\\xa03.# For loop on a list>>> numbers = [2, 4, 6, 8]\\r\\n>>> product = 1\\r\\n>>> for number in numbers:\\r\\n...    product = product * number\\r\\n... \\r\\n>>> print(\\'The product is:\\', product)The product is: 384All the Flow You’d ExpectPython knows the usual control flow statements that other languages speak —if,for,whileandrange— with some of its own twists, of course.More control flow tools in Python\\xa03# Simple output (with Unicode)>>> print(\"Hello, I\\'m Python!\")Hello, I\\'m Python!# Input, assignment>>> name = input(\\'What is your name?\\\\n\\')What is your name?\\r\\nPython>>> print(f\\'Hi, {name}.\\')Hi, Python.Quick & Easy to LearnExperienced programmers in any other language can pick up Python very quickly, and beginners find the clean syntax and indentation structure easy to learn.Whet your appetitewith our Python\\xa03 overview.Python is a programming language that lets you work quicklyand integrate systems more effectively.Learn More Donate≡MenuSearch This SiteGOAASmallerLargerResetSocializeLinkedInMastodonChat on IRCTwitter ≡MenuSearch This SiteGOAASmallerLargerResetSocializeLinkedInMastodonChat on IRCTwitter ≡ AASmallerLargerReset AASmallerLargerReset Smaller Larger Reset SocializeLinkedInMastodonChat on IRCTwitter SocializeLinkedInMastodonChat on IRCTwitter LinkedIn Mastodon Chat on IRC Twitter AboutApplicationsQuotesGetting StartedHelpPython Brochure Applications Quotes Getting Started Help Python Brochure DownloadsAll releasesSource codeWindowsmacOSOther PlatformsLicenseAlternative Implementations All releases Source code Windows macOS Other Platforms License Alternative Implementations DocumentationDocsAudio/Visual TalksBeginner\\'s GuideDeveloper\\'s GuideFAQNon-English DocsPEP IndexPython BooksPython Essays Docs Audio/Visual Talks Beginner\\'s Guide Developer\\'s Guide FAQ Non-English Docs PEP Index Python Books Python Essays CommunityDiversityMailing ListsIRCForumsPSF Annual Impact ReportPython ConferencesSpecial Interest GroupsPython LogoPython WikiCode of ConductCommunity AwardsGet InvolvedShared Stories Diversity Mailing Lists IRC Forums PSF Annual Impact Report Python Conferences Special Interest Groups Python Logo Python Wiki Code of Conduct Community Awards Get Involved Shared Stories Success StoriesArtsBusinessEducationEngineeringGovernmentScientificSoftware Development Arts Business Education Engineering Government Scientific Software Development NewsPython NewsPSF NewsletterPSF NewsPyCon US NewsNews from the Community Python News PSF Newsletter PSF News PyCon US News News from the Community EventsPython EventsUser Group EventsPython Events ArchiveUser Group Events ArchiveSubmit an Event Python Events User Group Events Python Events Archive User Group Events Archive Submit an Event >_Launch Interactive Shell# Python 3: Fibonacci series up to n>>> def fib(n):\\r\\n>>>     a, b = 0, 1\\r\\n>>>     while a < n:\\r\\n>>>         print(a, end=\\' \\')\\r\\n>>>         a, b = b, a+b\\r\\n>>>     print()\\r\\n>>> fib(1000)0 1 1 2 3 5 8 13 21 34 55 89 144 233 377 610 987Functions DefinedThe core of extensible programming is defining functions. Python allows mandatory and optional arguments, keyword arguments, and even arbitrary argument lists.More about defining functions in Python\\xa03# Python 3: List comprehensions>>> fruits = [\\'Banana\\', \\'Apple\\', \\'Lime\\']\\r\\n>>> loud_fruits = [fruit.upper() for fruit in fruits]\\r\\n>>> print(loud_fruits)[\\'BANANA\\', \\'APPLE\\', \\'LIME\\']# List and the enumerate function>>> list(enumerate(fruits))[(0, \\'Banana\\'), (1, \\'Apple\\'), (2, \\'Lime\\')]Compound Data TypesLists (known as arrays in other languages) are one of the compound data types that Python understands. Lists can be indexed, sliced and manipulated with other built-in functions.More about lists in Python\\xa03# Python 3: Simple arithmetic>>> 1 / 20.5>>> 2 ** 38>>> 17 / 3# classic division returns a float5.666666666666667>>> 17 // 3# floor division5Intuitive InterpretationCalculations are simple with Python, and expression syntax is straightforward: the operators+,-,*and/work as expected; parentheses()can be used for grouping.More about simple math functions in Python\\xa03.# For loop on a list>>> numbers = [2, 4, 6, 8]\\r\\n>>> product = 1\\r\\n>>> for number in numbers:\\r\\n...    product = product * number\\r\\n... \\r\\n>>> print(\\'The product is:\\', product)The product is: 384All the Flow You’d ExpectPython knows the usual control flow statements that other languages speak —if,for,whileandrange— with some of its own twists, of course.More control flow tools in Python\\xa03# Simple output (with Unicode)>>> print(\"Hello, I\\'m Python!\")Hello, I\\'m Python!# Input, assignment>>> name = input(\\'What is your name?\\\\n\\')What is your name?\\r\\nPython>>> print(f\\'Hi, {name}.\\')Hi, Python.Quick & Easy to LearnExperienced programmers in any other language can pick up Python very quickly, and beginners find the clean syntax and indentation structure easy to learn.Whet your appetitewith our Python\\xa03 overview. >_Launch Interactive Shell# Python 3: Fibonacci series up to n>>> def fib(n):\\r\\n>>>     a, b = 0, 1\\r\\n>>>     while a < n:\\r\\n>>>         print(a, end=\\' \\')\\r\\n>>>         a, b = b, a+b\\r\\n>>>     print()\\r\\n>>> fib(1000)0 1 1 2 3 5 8 13 21 34 55 89 144 233 377 610 987Functions DefinedThe core of extensible programming is defining functions. Python allows mandatory and optional arguments, keyword arguments, and even arbitrary argument lists.More about defining functions in Python\\xa03# Python 3: List comprehensions>>> fruits = [\\'Banana\\', \\'Apple\\', \\'Lime\\']\\r\\n>>> loud_fruits = [fruit.upper() for fruit in fruits]\\r\\n>>> print(loud_fruits)[\\'BANANA\\', \\'APPLE\\', \\'LIME\\']# List and the enumerate function>>> list(enumerate(fruits))[(0, \\'Banana\\'), (1, \\'Apple\\'), (2, \\'Lime\\')]Compound Data TypesLists (known as arrays in other languages) are one of the compound data types that Python understands. Lists can be indexed, sliced and manipulated with other built-in functions.More about lists in Python\\xa03# Python 3: Simple arithmetic>>> 1 / 20.5>>> 2 ** 38>>> 17 / 3# classic division returns a float5.666666666666667>>> 17 // 3# floor division5Intuitive InterpretationCalculations are simple with Python, and expression syntax is straightforward: the operators+,-,*and/work as expected; parentheses()can be used for grouping.More about simple math functions in Python\\xa03.# For loop on a list>>> numbers = [2, 4, 6, 8]\\r\\n>>> product = 1\\r\\n>>> for number in numbers:\\r\\n...    product = product * number\\r\\n... \\r\\n>>> print(\\'The product is:\\', product)The product is: 384All the Flow You’d ExpectPython knows the usual control flow statements that other languages speak —if,for,whileandrange— with some of its own twists, of course.More control flow tools in Python\\xa03# Simple output (with Unicode)>>> print(\"Hello, I\\'m Python!\")Hello, I\\'m Python!# Input, assignment>>> name = input(\\'What is your name?\\\\n\\')What is your name?\\r\\nPython>>> print(f\\'Hi, {name}.\\')Hi, Python.Quick & Easy to LearnExperienced programmers in any other language can pick up Python very quickly, and beginners find the clean syntax and indentation structure easy to learn.Whet your appetitewith our Python\\xa03 overview. >_Launch Interactive Shell Launch Interactive Shell # Python 3: Fibonacci series up to n>>> def fib(n):\\r\\n>>>     a, b = 0, 1\\r\\n>>>     while a < n:\\r\\n>>>         print(a, end=\\' \\')\\r\\n>>>         a, b = b, a+b\\r\\n>>>     print()\\r\\n>>> fib(1000)0 1 1 2 3 5 8 13 21 34 55 89 144 233 377 610 987Functions DefinedThe core of extensible programming is defining functions. Python allows mandatory and optional arguments, keyword arguments, and even arbitrary argument lists.More about defining functions in Python\\xa03 # Python 3: Fibonacci series up to n>>> def fib(n):\\r\\n>>>     a, b = 0, 1\\r\\n>>>     while a < n:\\r\\n>>>         print(a, end=\\' \\')\\r\\n>>>         a, b = b, a+b\\r\\n>>>     print()\\r\\n>>> fib(1000)0 1 1 2 3 5 8 13 21 34 55 89 144 233 377 610 987 # Python 3: Fibonacci series up to n 0 1 1 2 3 5 8 13 21 34 55 89 144 233 377 610 987 Functions DefinedThe core of extensible programming is defining functions. Python allows mandatory and optional arguments, keyword arguments, and even arbitrary argument lists.More about defining functions in Python\\xa03 Functions Defined The core of extensible programming is defining functions. Python allows mandatory and optional arguments, keyword arguments, and even arbitrary argument lists.More about defining functions in Python\\xa03 # Python 3: List comprehensions>>> fruits = [\\'Banana\\', \\'Apple\\', \\'Lime\\']\\r\\n>>> loud_fruits = [fruit.upper() for fruit in fruits]\\r\\n>>> print(loud_fruits)[\\'BANANA\\', \\'APPLE\\', \\'LIME\\']# List and the enumerate function>>> list(enumerate(fruits))[(0, \\'Banana\\'), (1, \\'Apple\\'), (2, \\'Lime\\')]Compound Data TypesLists (known as arrays in other languages) are one of the compound data types that Python understands. Lists can be indexed, sliced and manipulated with other built-in functions.More about lists in Python\\xa03 # Python 3: List comprehensions>>> fruits = [\\'Banana\\', \\'Apple\\', \\'Lime\\']\\r\\n>>> loud_fruits = [fruit.upper() for fruit in fruits]\\r\\n>>> print(loud_fruits)[\\'BANANA\\', \\'APPLE\\', \\'LIME\\']# List and the enumerate function>>> list(enumerate(fruits))[(0, \\'Banana\\'), (1, \\'Apple\\'), (2, \\'Lime\\')] # Python 3: List comprehensions [\\'BANANA\\', \\'APPLE\\', \\'LIME\\'] # List and the enumerate function [(0, \\'Banana\\'), (1, \\'Apple\\'), (2, \\'Lime\\')] Compound Data TypesLists (known as arrays in other languages) are one of the compound data types that Python understands. Lists can be indexed, sliced and manipulated with other built-in functions.More about lists in Python\\xa03 Compound Data Types Lists (known as arrays in other languages) are one of the compound data types that Python understands. Lists can be indexed, sliced and manipulated with other built-in functions.More about lists in Python\\xa03 # Python 3: Simple arithmetic>>> 1 / 20.5>>> 2 ** 38>>> 17 / 3# classic division returns a float5.666666666666667>>> 17 // 3# floor division5Intuitive InterpretationCalculations are simple with Python, and expression syntax is straightforward: the operators+,-,*and/work as expected; parentheses()can be used for grouping.More about simple math functions in Python\\xa03. # Python 3: Simple arithmetic>>> 1 / 20.5>>> 2 ** 38>>> 17 / 3# classic division returns a float5.666666666666667>>> 17 // 3# floor division5 # Python 3: Simple arithmetic 0.5 8 # classic division returns a float 5.666666666666667 # floor division 5 Intuitive InterpretationCalculations are simple with Python, and expression syntax is straightforward: the operators+,-,*and/work as expected; parentheses()can be used for grouping.More about simple math functions in Python\\xa03. Intuitive Interpretation Calculations are simple with Python, and expression syntax is straightforward: the operators+,-,*and/work as expected; parentheses()can be used for grouping.More about simple math functions in Python\\xa03. # For loop on a list>>> numbers = [2, 4, 6, 8]\\r\\n>>> product = 1\\r\\n>>> for number in numbers:\\r\\n...    product = product * number\\r\\n... \\r\\n>>> print(\\'The product is:\\', product)The product is: 384All the Flow You’d ExpectPython knows the usual control flow statements that other languages speak —if,for,whileandrange— with some of its own twists, of course.More control flow tools in Python\\xa03 # For loop on a list>>> numbers = [2, 4, 6, 8]\\r\\n>>> product = 1\\r\\n>>> for number in numbers:\\r\\n...    product = product * number\\r\\n... \\r\\n>>> print(\\'The product is:\\', product)The product is: 384 # For loop on a list The product is: 384 All the Flow You’d ExpectPython knows the usual control flow statements that other languages speak —if,for,whileandrange— with some of its own twists, of course.More control flow tools in Python\\xa03 All the Flow You’d Expect Python knows the usual control flow statements that other languages speak —if,for,whileandrange— with some of its own twists, of course.More control flow tools in Python\\xa03 # Simple output (with Unicode)>>> print(\"Hello, I\\'m Python!\")Hello, I\\'m Python!# Input, assignment>>> name = input(\\'What is your name?\\\\n\\')What is your name?\\r\\nPython>>> print(f\\'Hi, {name}.\\')Hi, Python.Quick & Easy to LearnExperienced programmers in any other language can pick up Python very quickly, and beginners find the clean syntax and indentation structure easy to learn.Whet your appetitewith our Python\\xa03 overview. # Simple output (with Unicode)>>> print(\"Hello, I\\'m Python!\")Hello, I\\'m Python!# Input, assignment>>> name = input(\\'What is your name?\\\\n\\')What is your name?\\r\\nPython>>> print(f\\'Hi, {name}.\\')Hi, Python. # Simple output (with Unicode) Hello, I\\'m Python! # Input, assignment What is your name?\\r\\nPython Hi, Python. Quick & Easy to LearnExperienced programmers in any other language can pick up Python very quickly, and beginners find the clean syntax and indentation structure easy to learn.Whet your appetitewith our Python\\xa03 overview. Quick & Easy to Learn Experienced programmers in any other language can pick up Python very quickly, and beginners find the clean syntax and indentation structure easy to learn.Whet your appetitewith our Python\\xa03 overview. Python is a programming language that lets you work quicklyand integrate systems more effectively.Learn More Python is a programming language that lets you work quicklyand integrate systems more effectively.Learn More The 2024 PSF Board Election is Open: If you are a voting member of the PSF that affirmed your intention to participate in this year’s election, we need your vote!More InfoGet StartedWhether you\\'re new to programming or an experienced developer, it\\'s easy to learn and use Python.Start with our Beginner’s GuideDownloadPython source code and installers are available for download for all versions!Latest:Python 3.12.4DocsDocumentation for Python\\'s standard library, along with tutorials and guides, are available online.docs.python.orgJobsLooking for work or have a Python related position that you\\'re trying to hire for? Ourrelaunched community-run job boardis the place to go.jobs.python.orgLatest NewsMore2024-07-11Announcing Our New Infrastructure Engineer2024-07-02The 2024 PSF Board Election is Open!2024-06-27Python 3.13.0 beta 3 released2024-06-27Announcing the PSF Board Candidates for 2024!2024-06-25FAQ for Proposed Changes to PSF BylawsUpcoming EventsMore2024-07-15Python Communities - University of Douala2024-07-17NZPUG-Auckland: Python, MongoDB, and AI2024-07-24PyLadies Amsterdam - Workshop (Basic-Intermediary level)2024-07-26PyCon Russia 20242024-07-27PyOhio 2024Success StoriesMoreEinblick reimagines the modern data science workflow in a collaborative data science canvas, rather than a linear notebook. Working in a canvas environment offers many advantages including live collaboration, an expansive visual interface, and a progressive computation engine. In this article, we’ll highlight one of the key ways we’re saving data scientists time–our operators. We’ll go through a couple of our core operators, why Python is such a crucial part of our software solution, and how we augmented our offerings with a user operator interface. The latter allows users to customize and use their own operators, which can be used in any Einblick canvas, and shared with other Einblick users.Reimagining data science with Python-based operators in Einblick’s visual canvasby Becca WengUse Python for…MoreWeb Development:Django,Pyramid,Bottle,Tornado,Flask,web2pyGUI Development:tkInter,PyGObject,PyQt,PySide,Kivy,wxPython,DearPyGuiScientific and Numeric:SciPy,Pandas,IPythonSoftware Development:Buildbot,Trac,RoundupSystem Administration:Ansible,Salt,OpenStack,xonsh>>>Python Enhancement Proposals(PEPs): The future of Pythonis discussed here.RSS>>>Python Software FoundationThe mission of the Python Software Foundation is to promote, protect, and advance the Python programming language, and to support and facilitate the growth of a diverse and international community of Python programmers.Learn moreBecome a MemberDonate to the PSF The 2024 PSF Board Election is Open: If you are a voting member of the PSF that affirmed your intention to participate in this year’s election, we need your vote!More InfoGet StartedWhether you\\'re new to programming or an experienced developer, it\\'s easy to learn and use Python.Start with our Beginner’s GuideDownloadPython source code and installers are available for download for all versions!Latest:Python 3.12.4DocsDocumentation for Python\\'s standard library, along with tutorials and guides, are available online.docs.python.orgJobsLooking for work or have a Python related position that you\\'re trying to hire for? Ourrelaunched community-run job boardis the place to go.jobs.python.orgLatest NewsMore2024-07-11Announcing Our New Infrastructure Engineer2024-07-02The 2024 PSF Board Election is Open!2024-06-27Python 3.13.0 beta 3 released2024-06-27Announcing the PSF Board Candidates for 2024!2024-06-25FAQ for Proposed Changes to PSF BylawsUpcoming EventsMore2024-07-15Python Communities - University of Douala2024-07-17NZPUG-Auckland: Python, MongoDB, and AI2024-07-24PyLadies Amsterdam - Workshop (Basic-Intermediary level)2024-07-26PyCon Russia 20242024-07-27PyOhio 2024Success StoriesMoreEinblick reimagines the modern data science workflow in a collaborative data science canvas, rather than a linear notebook. Working in a canvas environment offers many advantages including live collaboration, an expansive visual interface, and a progressive computation engine. In this article, we’ll highlight one of the key ways we’re saving data scientists time–our operators. We’ll go through a couple of our core operators, why Python is such a crucial part of our software solution, and how we augmented our offerings with a user operator interface. The latter allows users to customize and use their own operators, which can be used in any Einblick canvas, and shared with other Einblick users.Reimagining data science with Python-based operators in Einblick’s visual canvasby Becca WengUse Python for…MoreWeb Development:Django,Pyramid,Bottle,Tornado,Flask,web2pyGUI Development:tkInter,PyGObject,PyQt,PySide,Kivy,wxPython,DearPyGuiScientific and Numeric:SciPy,Pandas,IPythonSoftware Development:Buildbot,Trac,RoundupSystem Administration:Ansible,Salt,OpenStack,xonsh>>>Python Enhancement Proposals(PEPs): The future of Pythonis discussed here.RSS>>>Python Software FoundationThe mission of the Python Software Foundation is to promote, protect, and advance the Python programming language, and to support and facilitate the growth of a diverse and international community of Python programmers.Learn moreBecome a MemberDonate to the PSF The 2024 PSF Board Election is Open: If you are a voting member of the PSF that affirmed your intention to participate in this year’s election, we need your vote!More Info The 2024 PSF Board Election is Open: If you are a voting member of the PSF that affirmed your intention to participate in this year’s election, we need your vote!More Info Get StartedWhether you\\'re new to programming or an experienced developer, it\\'s easy to learn and use Python.Start with our Beginner’s GuideDownloadPython source code and installers are available for download for all versions!Latest:Python 3.12.4DocsDocumentation for Python\\'s standard library, along with tutorials and guides, are available online.docs.python.orgJobsLooking for work or have a Python related position that you\\'re trying to hire for? Ourrelaunched community-run job boardis the place to go.jobs.python.org Get StartedWhether you\\'re new to programming or an experienced developer, it\\'s easy to learn and use Python.Start with our Beginner’s Guide Get Started Whether you\\'re new to programming or an experienced developer, it\\'s easy to learn and use Python. Start with our Beginner’s Guide DownloadPython source code and installers are available for download for all versions!Latest:Python 3.12.4 Download Python source code and installers are available for download for all versions! Latest:Python 3.12.4 DocsDocumentation for Python\\'s standard library, along with tutorials and guides, are available online.docs.python.org Docs Documentation for Python\\'s standard library, along with tutorials and guides, are available online. docs.python.org JobsLooking for work or have a Python related position that you\\'re trying to hire for? Ourrelaunched community-run job boardis the place to go.jobs.python.org Jobs Looking for work or have a Python related position that you\\'re trying to hire for? Ourrelaunched community-run job boardis the place to go. jobs.python.org Latest NewsMore2024-07-11Announcing Our New Infrastructure Engineer2024-07-02The 2024 PSF Board Election is Open!2024-06-27Python 3.13.0 beta 3 released2024-06-27Announcing the PSF Board Candidates for 2024!2024-06-25FAQ for Proposed Changes to PSF BylawsUpcoming EventsMore2024-07-15Python Communities - University of Douala2024-07-17NZPUG-Auckland: Python, MongoDB, and AI2024-07-24PyLadies Amsterdam - Workshop (Basic-Intermediary level)2024-07-26PyCon Russia 20242024-07-27PyOhio 2024 Latest NewsMore2024-07-11Announcing Our New Infrastructure Engineer2024-07-02The 2024 PSF Board Election is Open!2024-06-27Python 3.13.0 beta 3 released2024-06-27Announcing the PSF Board Candidates for 2024!2024-06-25FAQ for Proposed Changes to PSF Bylaws Latest NewsMore2024-07-11Announcing Our New Infrastructure Engineer2024-07-02The 2024 PSF Board Election is Open!2024-06-27Python 3.13.0 beta 3 released2024-06-27Announcing the PSF Board Candidates for 2024!2024-06-25FAQ for Proposed Changes to PSF Bylaws Latest News More 2024-07-11Announcing Our New Infrastructure Engineer 2024- 2024-07-02The 2024 PSF Board Election is Open! 2024- 2024-06-27Python 3.13.0 beta 3 released 2024- 2024-06-27Announcing the PSF Board Candidates for 2024! 2024- 2024-06-25FAQ for Proposed Changes to PSF Bylaws 2024- Upcoming EventsMore2024-07-15Python Communities - University of Douala2024-07-17NZPUG-Auckland: Python, MongoDB, and AI2024-07-24PyLadies Amsterdam - Workshop (Basic-Intermediary level)2024-07-26PyCon Russia 20242024-07-27PyOhio 2024 Upcoming EventsMore2024-07-15Python Communities - University of Douala2024-07-17NZPUG-Auckland: Python, MongoDB, and AI2024-07-24PyLadies Amsterdam - Workshop (Basic-Intermediary level)2024-07-26PyCon Russia 20242024-07-27PyOhio 2024 Upcoming Events More 2024-07-15Python Communities - University of Douala 2024- 2024-07-17NZPUG-Auckland: Python, MongoDB, and AI 2024- 2024-07-24PyLadies Amsterdam - Workshop (Basic-Intermediary level) 2024- 2024-07-26PyCon Russia 2024 2024- 2024-07-27PyOhio 2024 2024- Success StoriesMoreEinblick reimagines the modern data science workflow in a collaborative data science canvas, rather than a linear notebook. Working in a canvas environment offers many advantages including live collaboration, an expansive visual interface, and a progressive computation engine. In this article, we’ll highlight one of the key ways we’re saving data scientists time–our operators. We’ll go through a couple of our core operators, why Python is such a crucial part of our software solution, and how we augmented our offerings with a user operator interface. The latter allows users to customize and use their own operators, which can be used in any Einblick canvas, and shared with other Einblick users.Reimagining data science with Python-based operators in Einblick’s visual canvasby Becca WengUse Python for…MoreWeb Development:Django,Pyramid,Bottle,Tornado,Flask,web2pyGUI Development:tkInter,PyGObject,PyQt,PySide,Kivy,wxPython,DearPyGuiScientific and Numeric:SciPy,Pandas,IPythonSoftware Development:Buildbot,Trac,RoundupSystem Administration:Ansible,Salt,OpenStack,xonsh Success StoriesMoreEinblick reimagines the modern data science workflow in a collaborative data science canvas, rather than a linear notebook. Working in a canvas environment offers many advantages including live collaboration, an expansive visual interface, and a progressive computation engine. In this article, we’ll highlight one of the key ways we’re saving data scientists time–our operators. We’ll go through a couple of our core operators, why Python is such a crucial part of our software solution, and how we augmented our offerings with a user operator interface. The latter allows users to customize and use their own operators, which can be used in any Einblick canvas, and shared with other Einblick users.Reimagining data science with Python-based operators in Einblick’s visual canvasby Becca Weng Success StoriesMoreEinblick reimagines the modern data science workflow in a collaborative data science canvas, rather than a linear notebook. Working in a canvas environment offers many advantages including live collaboration, an expansive visual interface, and a progressive computation engine. In this article, we’ll highlight one of the key ways we’re saving data scientists time–our operators. We’ll go through a couple of our core operators, why Python is such a crucial part of our software solution, and how we augmented our offerings with a user operator interface. The latter allows users to customize and use their own operators, which can be used in any Einblick canvas, and shared with other Einblick users.Reimagining data science with Python-based operators in Einblick’s visual canvasby Becca Weng Success Stories More Einblick reimagines the modern data science workflow in a collaborative data science canvas, rather than a linear notebook. Working in a canvas environment offers many advantages including live collaboration, an expansive visual interface, and a progressive computation engine. In this article, we’ll highlight one of the key ways we’re saving data scientists time–our operators. We’ll go through a couple of our core operators, why Python is such a crucial part of our software solution, and how we augmented our offerings with a user operator interface. The latter allows users to customize and use their own operators, which can be used in any Einblick canvas, and shared with other Einblick users.Reimagining data science with Python-based operators in Einblick’s visual canvasby Becca Weng Reimagining data science with Python-based operators in Einblick’s visual canvasby Becca Weng Reimagining data science with Python-based operators in Einblick’s visual canvasby Becca Weng Use Python for…MoreWeb Development:Django,Pyramid,Bottle,Tornado,Flask,web2pyGUI Development:tkInter,PyGObject,PyQt,PySide,Kivy,wxPython,DearPyGuiScientific and Numeric:SciPy,Pandas,IPythonSoftware Development:Buildbot,Trac,RoundupSystem Administration:Ansible,Salt,OpenStack,xonsh Use Python for…MoreWeb Development:Django,Pyramid,Bottle,Tornado,Flask,web2pyGUI Development:tkInter,PyGObject,PyQt,PySide,Kivy,wxPython,DearPyGuiScientific and Numeric:SciPy,Pandas,IPythonSoftware Development:Buildbot,Trac,RoundupSystem Administration:Ansible,Salt,OpenStack,xonsh Use Python for… More Web Development:Django,Pyramid,Bottle,Tornado,Flask,web2py Django,Pyramid,Bottle,Tornado,Flask,web2py GUI Development:tkInter,PyGObject,PyQt,PySide,Kivy,wxPython,DearPyGui tkInter,PyGObject,PyQt,PySide,Kivy,wxPython,DearPyGui Scientific and Numeric:SciPy,Pandas,IPython SciPy,Pandas,IPython Software Development:Buildbot,Trac,Roundup Buildbot,Trac,Roundup System Administration:Ansible,Salt,OpenStack,xonsh Ansible,Salt,OpenStack,xonsh >>>Python Enhancement Proposals(PEPs): The future of Pythonis discussed here.RSS >>>Python Enhancement Proposals(PEPs): The future of Pythonis discussed here.RSS >>> (PEPs) is discussed here. >>>Python Software FoundationThe mission of the Python Software Foundation is to promote, protect, and advance the Python programming language, and to support and facilitate the growth of a diverse and international community of Python programmers.Learn moreBecome a MemberDonate to the PSF >>>Python Software Foundation >>> The mission of the Python Software Foundation is to promote, protect, and advance the Python programming language, and to support and facilitate the growth of a diverse and international community of Python programmers.Learn more Become a MemberDonate to the PSF ▲Back to TopAboutApplicationsQuotesGetting StartedHelpPython BrochureDownloadsAll releasesSource codeWindowsmacOSOther PlatformsLicenseAlternative ImplementationsDocumentationDocsAudio/Visual TalksBeginner\\'s GuideDeveloper\\'s GuideFAQNon-English DocsPEP IndexPython BooksPython EssaysCommunityDiversityMailing ListsIRCForumsPSF Annual Impact ReportPython ConferencesSpecial Interest GroupsPython LogoPython WikiCode of ConductCommunity AwardsGet InvolvedShared StoriesSuccess StoriesArtsBusinessEducationEngineeringGovernmentScientificSoftware DevelopmentNewsPython NewsPSF NewsletterPSF NewsPyCon US NewsNews from the CommunityEventsPython EventsUser Group EventsPython Events ArchiveUser Group Events ArchiveSubmit an EventContributingDeveloper\\'s GuideIssue Trackerpython-dev listCore MentorshipReport a Security Issue▲Back to Top ▲Back to TopAboutApplicationsQuotesGetting StartedHelpPython BrochureDownloadsAll releasesSource codeWindowsmacOSOther PlatformsLicenseAlternative ImplementationsDocumentationDocsAudio/Visual TalksBeginner\\'s GuideDeveloper\\'s GuideFAQNon-English DocsPEP IndexPython BooksPython EssaysCommunityDiversityMailing ListsIRCForumsPSF Annual Impact ReportPython ConferencesSpecial Interest GroupsPython LogoPython WikiCode of ConductCommunity AwardsGet InvolvedShared StoriesSuccess StoriesArtsBusinessEducationEngineeringGovernmentScientificSoftware DevelopmentNewsPython NewsPSF NewsletterPSF NewsPyCon US NewsNews from the CommunityEventsPython EventsUser Group EventsPython Events ArchiveUser Group Events ArchiveSubmit an EventContributingDeveloper\\'s GuideIssue Trackerpython-dev listCore MentorshipReport a Security Issue▲Back to Top ▲ ▲ AboutApplicationsQuotesGetting StartedHelpPython Brochure Applications Quotes Getting Started Help Python Brochure DownloadsAll releasesSource codeWindowsmacOSOther PlatformsLicenseAlternative Implementations All releases Source code Windows macOS Other Platforms License Alternative Implementations DocumentationDocsAudio/Visual TalksBeginner\\'s GuideDeveloper\\'s GuideFAQNon-English DocsPEP IndexPython BooksPython Essays Docs Audio/Visual Talks Beginner\\'s Guide Developer\\'s Guide FAQ Non-English Docs PEP Index Python Books Python Essays CommunityDiversityMailing ListsIRCForumsPSF Annual Impact ReportPython ConferencesSpecial Interest GroupsPython LogoPython WikiCode of ConductCommunity AwardsGet InvolvedShared Stories Diversity Mailing Lists IRC Forums PSF Annual Impact Report Python Conferences Special Interest Groups Python Logo Python Wiki Code of Conduct Community Awards Get Involved Shared Stories Success StoriesArtsBusinessEducationEngineeringGovernmentScientificSoftware Development Arts Business Education Engineering Government Scientific Software Development NewsPython NewsPSF NewsletterPSF NewsPyCon US NewsNews from the Community Python News PSF Newsletter PSF News PyCon US News News from the Community EventsPython EventsUser Group EventsPython Events ArchiveUser Group Events ArchiveSubmit an Event Python Events User Group Events Python Events Archive User Group Events Archive Submit an Event ContributingDeveloper\\'s GuideIssue Trackerpython-dev listCore MentorshipReport a Security Issue Developer\\'s Guide Issue Tracker python-dev list Core Mentorship Report a Security Issue ▲ ▲ Help &GeneralContactDiversityInitiativesSubmit Website BugStatusCopyright ©2001-2024.Python Software FoundationLegal StatementsPrivacy Policy Help &GeneralContactDiversityInitiativesSubmit Website BugStatusCopyright ©2001-2024.Python Software FoundationLegal StatementsPrivacy Policy Help &GeneralContact General DiversityInitiatives Initiatives Submit Website Bug Status Copyright ©2001-2024.Python Software FoundationLegal StatementsPrivacy Policy Copyright ©2001-2024.Python Software FoundationLegal StatementsPrivacy Policy Copyright ©2001-2024. Python Software Foundation Legal Statements Privacy Policy', ['https://www.python.org/', 'https://www.python.org/', 'https://www.python.org/', 'https://www.python.org/psf', 'https://www.python.org/jobs', 'https://www.python.org/community-landing', 'https://www.python.org/', 'https://www.python.org/', 'https://www.python.org/', 'https://www.python.org/', 'https://www.python.org/', 'https://www.python.org/community/irc', 'https://www.python.org/about', 'https://www.python.org/about/apps', 'https://www.python.org/about/quotes', 'https://www.python.org/about/gettingstarted', 'https://www.python.org/about/help', 'https://www.python.org/downloads', 'https://www.python.org/downloads', 'https://www.python.org/downloads/source', 'https://www.python.org/downloads/windows', 'https://www.python.org/downloads/macos', 'https://www.python.org/download/other', 'https://www.python.org/download/alternatives', 'https://www.python.org/doc', 'https://www.python.org/doc', 'https://www.python.org/doc/av', 'https://www.python.org/doc/essays', 'https://www.python.org/community', 'https://www.python.org/community/diversity', 'https://www.python.org/community/lists', 'https://www.python.org/community/irc', 'https://www.python.org/community/forums', 'https://www.python.org/psf/annual-report/2021', 'https://www.python.org/community/workshops', 'https://www.python.org/community/sigs', 'https://www.python.org/community/logos', 'https://www.python.org/psf/conduct', 'https://www.python.org/community/awards', 'https://www.python.org/psf/get-involved', 'https://www.python.org/psf/community-stories', 'https://www.python.org/success-stories', 'https://www.python.org/success-stories/category/arts', 'https://www.python.org/success-stories/category/business', 'https://www.python.org/success-stories/category/education', 'https://www.python.org/success-stories/category/engineering', 'https://www.python.org/success-stories/category/government', 'https://www.python.org/success-stories/category/scientific', 'https://www.python.org/success-stories/category/software-development', 'https://www.python.org/blogs', 'https://www.python.org/blogs', 'https://www.python.org/psf/newsletter', 'https://www.python.org/events', 'https://www.python.org/events/python-events', 'https://www.python.org/events/python-user-group', 'https://www.python.org/events/python-events/past', 'https://www.python.org/events/python-user-group/past', 'https://www.python.org/shell', 'https://www.python.org/doc', 'https://www.python.org/about/gettingstarted', 'https://www.python.org/downloads/release/python-3124', 'https://www.python.org/events/calendars', 'https://www.python.org/events/python-events/1773', 'https://www.python.org/events/python-user-group/1783', 'https://www.python.org/events/python-user-group/1788', 'https://www.python.org/events/python-events/1736', 'https://www.python.org/events/python-events/1743', 'https://www.python.org/success-stories', 'https://www.python.org/success-stories/reimagining-data-science-with-python-based-operators-in-einblicks-visual-canvas', 'https://www.python.org/success-stories/reimagining-data-science-with-python-based-operators-in-einblicks-visual-canvas', 'https://www.python.org/about/apps', 'https://www.python.org/dev/peps', 'https://www.python.org/dev/peps/peps.rss', 'https://www.python.org/psf', 'https://www.python.org/psf', 'https://www.python.org/users/membership', 'https://www.python.org/psf/donations', 'https://www.python.org/', 'https://www.python.org/about', 'https://www.python.org/about/apps', 'https://www.python.org/about/quotes', 'https://www.python.org/about/gettingstarted', 'https://www.python.org/about/help', 'https://www.python.org/downloads', 'https://www.python.org/downloads', 'https://www.python.org/downloads/source', 'https://www.python.org/downloads/windows', 'https://www.python.org/downloads/macos', 'https://www.python.org/download/other', 'https://www.python.org/download/alternatives', 'https://www.python.org/doc', 'https://www.python.org/doc', 'https://www.python.org/doc/av', 'https://www.python.org/doc/essays', 'https://www.python.org/community', 'https://www.python.org/community/diversity', 'https://www.python.org/community/lists', 'https://www.python.org/community/irc', 'https://www.python.org/community/forums', 'https://www.python.org/psf/annual-report/2021', 'https://www.python.org/community/workshops', 'https://www.python.org/community/sigs', 'https://www.python.org/community/logos', 'https://www.python.org/psf/conduct', 'https://www.python.org/community/awards', 'https://www.python.org/psf/get-involved', 'https://www.python.org/psf/community-stories', 'https://www.python.org/success-stories', 'https://www.python.org/success-stories/category/arts', 'https://www.python.org/success-stories/category/business', 'https://www.python.org/success-stories/category/education', 'https://www.python.org/success-stories/category/engineering', 'https://www.python.org/success-stories/category/government', 'https://www.python.org/success-stories/category/scientific', 'https://www.python.org/success-stories/category/software-development', 'https://www.python.org/blogs', 'https://www.python.org/blogs', 'https://www.python.org/psf/newsletter', 'https://www.python.org/events', 'https://www.python.org/events/python-events', 'https://www.python.org/events/python-user-group', 'https://www.python.org/events/python-events/past', 'https://www.python.org/events/python-user-group/past', 'https://www.python.org/dev', 'https://www.python.org/dev/core-mentorship', 'https://www.python.org/dev/security', 'https://www.python.org/', 'https://www.python.org/about/help', 'https://www.python.org/community/diversity', 'https://www.python.org/psf-landing', 'https://www.python.org/about/legal', 'https://www.python.org/privacy'])]\n"
     ]
    }
   ],
   "source": [
    "py_website = 'https://www.python.org/'\n",
    "py_html = fetch_url_html_content(py_website)\n",
    "py_data = parse_html(py_html,py_website)\n",
    "print(py_data)"
   ]
  },
  {
   "cell_type": "markdown",
   "id": "16cf075d-ea56-44b1-b5f6-7d501c7dfc71",
   "metadata": {},
   "source": [
    "**Ideas of How to Improve Solution:**\n",
    "1. Instead of starting the process from the main website, it might be more beneficial to start from where the information is located. Alternatively, knowing the sites where the information is available in advance and providing these will send more relevant texts to the analysis phase.\n",
    "2. Instead of the website, if available, their databases or financial reports can be checked. Here, processing more useful information, i.e., texts, will yield more detailed results.\n",
    "3. More currencies can be added, to better understand the equity check size.\n",
    "4. If the number of search words for each URL entered is kept in a token list, and as the process goes deeper, if the URLs fall below a certain number of words in a recursive way, that is, if the URLs no longer contain money and the information being sought, but only the name of the company or something similar, irrelevant searches can be avoided by stopping the processing of the page according to the number of these words. By thinking of it like a tree, going lower in this branch can be stopped. This can provide a better search.\n",
    "5. If the data analysis part is better, it will give more accurate results. It might understand negative sentences positively and answer 'Yes' to the investment question. For example: 'While Company A has no investment in solar parks, it has a $100 million investment in wind energy.'"
   ]
  },
  {
   "cell_type": "markdown",
   "id": "8bc23605-7d8b-48ad-ab81-04b22c44b6e8",
   "metadata": {},
   "source": [
    "**Thank you for getting to this point, now we can run the task.**"
   ]
  },
  {
   "cell_type": "markdown",
   "id": "346a1166-7fb2-4c70-ab46-9e2355b74666",
   "metadata": {},
   "source": [
    "**Predefined Method:**"
   ]
  },
  {
   "cell_type": "code",
   "execution_count": 13,
   "id": "a9a7bec2-d72f-44c8-8c99-14e3675418f0",
   "metadata": {},
   "outputs": [
    {
     "name": "stdin",
     "output_type": "stream",
     "text": [
      "Do you want to run method Pattern[0] or method Predefined[1] for NLP?  1\n",
      "Do you want to run Task[0] or Test[1]?  0\n",
      "Please indicate number of websites search per company(Max. allowed limit is 50):   7\n"
     ]
    },
    {
     "name": "stdout",
     "output_type": "stream",
     "text": [
      "# of Remained Link: 6 , and Fetched Link:  https://enrego.de/en\n",
      "# of Remained Link: 5 , and Fetched Link:  https://enrego.de/en/our-services\n",
      "# of Remained Link: 4 , and Fetched Link:  https://enrego.de/en/our-project\n",
      "# of Remained Link: 3 , and Fetched Link:  https://enrego.de/en/crowdfunding\n",
      "# of Remained Link: 2 , and Fetched Link:  https://enrego.de/en/funds\n",
      "# of Remained Link: 1 , and Fetched Link:  https://enrego.de/en/private-equity\n",
      "# of Remained Link: 0 , and Fetched Link:  https://enrego.de/en/about\n",
      "Processing data for ENREGO Energy GmbH\n",
      "# of Remained Link: 6 , and Fetched Link:  https://enviria.energy/en/cases/maja-furniture-factory-energy-as-a-service\n",
      "# of Remained Link: 5 , and Fetched Link:  https://enviria.energy/en/how-it-works\n",
      "# of Remained Link: 4 , and Fetched Link:  https://enviria.energy/en/solarconfigurator\n",
      "# of Remained Link: 3 , and Fetched Link:  https://enviria.energy/en\n",
      "# of Remained Link: 2 , and Fetched Link:  https://enviria.energy/en/solar-options/your-solar-options\n",
      "# of Remained Link: 1 , and Fetched Link:  https://enviria.energy/en/solar-options/roof-leasing\n",
      "# of Remained Link: 0 , and Fetched Link:  https://enviria.energy/en/enviria-as-a-360-service-provider\n",
      "Processing data for ENVIRIA Energy Holding GmbH\n",
      "# of Remained Link: 6 , and Fetched Link:  https://hih-invest.de/en/\n",
      "# of Remained Link: 5 , and Fetched Link:  https://hih-invest.de/en/investment-solutions\n",
      "# of Remained Link: 4 , and Fetched Link:  https://hih-invest.de/en/current-investment-products\n",
      "# of Remained Link: 3 , and Fetched Link:  https://hih-invest.de/en/club-deals-private-placements\n",
      "# of Remained Link: 2 , and Fetched Link:  https://hih-invest.de/en/bespoke-solution\n",
      "# of Remained Link: 1 , and Fetched Link:  https://hih-invest.de/en/strategy-funds\n",
      "# of Remained Link: 0 , and Fetched Link:  https://hih-invest.de/en/multi-manager-business\n",
      "Processing data for HIH Invest Real Estate Austria GmbH\n",
      "# of Remained Link: 6 , and Fetched Link:  https://www.merkle.com/dach/en\n",
      "# of Remained Link: 5 , and Fetched Link:  https://www.merkle.com/dach/en/about-us\n",
      "# of Remained Link: 4 , and Fetched Link:  https://www.merkle.com/dach/en/services\n",
      "# of Remained Link: 3 , and Fetched Link:  https://www.merkle.com/dach/en/references\n",
      "# of Remained Link: 2 , and Fetched Link:  https://www.merkle.com/dach/en/jobs-career\n",
      "# of Remained Link: 1 , and Fetched Link:  https://www.merkle.com/dach/en/topics-trends\n",
      "# of Remained Link: 0 , and Fetched Link:  https://www.merkle.com/dach/en/contact\n",
      "Processing data for Merkle Germany GmbH\n",
      "\n",
      "Company: ENREGO Energy GmbH\n",
      "Equity Check Size Power Capacities Investing in Solarparks\n",
      "               []               []                     Yes\n",
      "\n",
      "Website: https://enrego.de/en\n",
      "\n",
      "-----------------------\n",
      "\n",
      "Company: ENVIRIA Energy Holding GmbH\n",
      "Equity Check Size Power Capacities Investing in Solarparks\n",
      "               []         [750 kW]                     Yes\n",
      "\n",
      "Website: https://enviria.energy/en/cases/maja-furniture-factory-energy-as-a-service\n",
      "\n",
      "-----------------------\n",
      "\n",
      "Company: ENVIRIA Energy Holding GmbH\n",
      "Equity Check Size Power Capacities Investing in Solarparks\n",
      "               []               []                     Yes\n",
      "\n",
      "Website: https://enviria.energy/en/how-it-works\n",
      "\n",
      "-----------------------\n",
      "\n",
      "Company: ENVIRIA Energy Holding GmbH\n",
      "Equity Check Size       Power Capacities Investing in Solarparks\n",
      "               [] [6.5 million kilowatt]                     Yes\n",
      "\n",
      "Website: https://enviria.energy/en\n",
      "\n",
      "-----------------------\n",
      "\n",
      "Company: ENVIRIA Energy Holding GmbH\n",
      " Equity Check Size Power Capacities Investing in Solarparks\n",
      "[95.000.000+ Euro]               []                     Yes\n",
      "\n",
      "Website: https://enviria.energy/en/enviria-as-a-360-service-provider\n",
      "\n",
      "-----------------------\n",
      "\n",
      "Company: HIH Invest Real Estate Austria GmbH\n",
      "  Equity Check Size Power Capacities Investing in Solarparks\n",
      "[750 million euros]               []                     Yes\n",
      "\n",
      "Website: https://hih-invest.de/en/\n",
      "\n",
      "-----------------------\n",
      "\n",
      "Company: Merkle Germany GmbH\n",
      "Equity Check Size Power Capacities Investing in Solarparks\n",
      "              N/A              N/A                     N/A\n",
      "\n",
      "Website: https://www.merkle.com/dach/en\n",
      "\n",
      "-----------------------\n"
     ]
    }
   ],
   "source": [
    "%run main.py"
   ]
  },
  {
   "cell_type": "markdown",
   "id": "1a0f93d0-ecf6-4be6-82cb-4530afcd007f",
   "metadata": {},
   "source": [
    "**Pattern Method:**"
   ]
  },
  {
   "cell_type": "code",
   "execution_count": 16,
   "id": "013ff1ff-6015-4f03-b84f-0bf904b6525c",
   "metadata": {},
   "outputs": [
    {
     "name": "stdin",
     "output_type": "stream",
     "text": [
      "Do you want to run method Pattern[0] or method Predefined[1] for NLP?  0\n",
      "Do you want to run Task[0] or Test[1]?  0\n",
      "Please indicate number of websites search per company(Max. allowed limit is 50):   7\n"
     ]
    },
    {
     "name": "stdout",
     "output_type": "stream",
     "text": [
      "# of Remained Link: 6 , and Fetched Link:  https://enrego.de/en\n",
      "# of Remained Link: 5 , and Fetched Link:  https://enrego.de/en/our-services\n",
      "# of Remained Link: 4 , and Fetched Link:  https://enrego.de/en/our-project\n",
      "# of Remained Link: 3 , and Fetched Link:  https://enrego.de/en/crowdfunding\n",
      "# of Remained Link: 2 , and Fetched Link:  https://enrego.de/en/funds\n",
      "# of Remained Link: 1 , and Fetched Link:  https://enrego.de/en/private-equity\n",
      "# of Remained Link: 0 , and Fetched Link:  https://enrego.de/en/about\n",
      "Processing data for ENREGO Energy GmbH\n",
      "# of Remained Link: 6 , and Fetched Link:  https://enviria.energy/en/cases/maja-furniture-factory-energy-as-a-service\n",
      "# of Remained Link: 5 , and Fetched Link:  https://enviria.energy/en/how-it-works\n",
      "# of Remained Link: 4 , and Fetched Link:  https://enviria.energy/en/solarconfigurator\n",
      "# of Remained Link: 3 , and Fetched Link:  https://enviria.energy/en\n",
      "# of Remained Link: 2 , and Fetched Link:  https://enviria.energy/en/solar-options/your-solar-options\n",
      "# of Remained Link: 1 , and Fetched Link:  https://enviria.energy/en/solar-options/roof-leasing\n",
      "# of Remained Link: 0 , and Fetched Link:  https://enviria.energy/en/enviria-as-a-360-service-provider\n",
      "Processing data for ENVIRIA Energy Holding GmbH\n",
      "# of Remained Link: 6 , and Fetched Link:  https://hih-invest.de/en/\n",
      "# of Remained Link: 5 , and Fetched Link:  https://hih-invest.de/en/investment-solutions\n",
      "# of Remained Link: 4 , and Fetched Link:  https://hih-invest.de/en/current-investment-products\n",
      "# of Remained Link: 3 , and Fetched Link:  https://hih-invest.de/en/club-deals-private-placements\n",
      "# of Remained Link: 2 , and Fetched Link:  https://hih-invest.de/en/bespoke-solution\n",
      "# of Remained Link: 1 , and Fetched Link:  https://hih-invest.de/en/strategy-funds\n",
      "# of Remained Link: 0 , and Fetched Link:  https://hih-invest.de/en/multi-manager-business\n",
      "Processing data for HIH Invest Real Estate Austria GmbH\n",
      "# of Remained Link: 6 , and Fetched Link:  https://www.merkle.com/dach/en\n",
      "# of Remained Link: 5 , and Fetched Link:  https://www.merkle.com/dach/en/about-us\n",
      "# of Remained Link: 4 , and Fetched Link:  https://www.merkle.com/dach/en/services\n",
      "# of Remained Link: 3 , and Fetched Link:  https://www.merkle.com/dach/en/references\n",
      "# of Remained Link: 2 , and Fetched Link:  https://www.merkle.com/dach/en/jobs-career\n",
      "# of Remained Link: 1 , and Fetched Link:  https://www.merkle.com/dach/en/topics-trends\n",
      "# of Remained Link: 0 , and Fetched Link:  https://www.merkle.com/dach/en/contact\n",
      "Processing data for Merkle Germany GmbH\n",
      "\n",
      "Company: ENREGO Energy GmbH\n",
      "Equity Check Size Power Capacities Investing in Solarparks\n",
      "               []               []                     Yes\n",
      "\n",
      "Website: https://enrego.de/en\n",
      "\n",
      "-----------------------\n",
      "\n",
      "Company: ENVIRIA Energy Holding GmbH\n",
      "Equity Check Size Power Capacities Investing in Solarparks\n",
      "               []         [750 kW]                     Yes\n",
      "\n",
      "Website: https://enviria.energy/en/cases/maja-furniture-factory-energy-as-a-service\n",
      "\n",
      "-----------------------\n",
      "\n",
      "Company: ENVIRIA Energy Holding GmbH\n",
      "Equity Check Size Power Capacities Investing in Solarparks\n",
      "               []               []                     Yes\n",
      "\n",
      "Website: https://enviria.energy/en/how-it-works\n",
      "\n",
      "-----------------------\n",
      "\n",
      "Company: ENVIRIA Energy Holding GmbH\n",
      "Equity Check Size       Power Capacities Investing in Solarparks\n",
      "               [] [6.5 million kilowatt]                     Yes\n",
      "\n",
      "Website: https://enviria.energy/en\n",
      "\n",
      "-----------------------\n",
      "\n",
      "Company: ENVIRIA Energy Holding GmbH\n",
      " Equity Check Size Power Capacities Investing in Solarparks\n",
      "[95.000.000+ Euro]               []                     Yes\n",
      "\n",
      "Website: https://enviria.energy/en/enviria-as-a-360-service-provider\n",
      "\n",
      "-----------------------\n",
      "\n",
      "Company: HIH Invest Real Estate Austria GmbH\n",
      "  Equity Check Size Power Capacities Investing in Solarparks\n",
      "[750 million euros]               []                     Yes\n",
      "\n",
      "Website: https://hih-invest.de/en/\n",
      "\n",
      "-----------------------\n",
      "\n",
      "Company: Merkle Germany GmbH\n",
      "Equity Check Size Power Capacities Investing in Solarparks\n",
      "              N/A              N/A                     N/A\n",
      "\n",
      "Website: https://www.merkle.com/dach/en\n",
      "\n",
      "-----------------------\n"
     ]
    }
   ],
   "source": [
    "%run main.py"
   ]
  },
  {
   "cell_type": "code",
   "execution_count": null,
   "id": "e247d522-e5c9-4026-81f1-3287ffc3101c",
   "metadata": {},
   "outputs": [],
   "source": []
  }
 ],
 "metadata": {
  "kernelspec": {
   "display_name": "Python 3 (ipykernel)",
   "language": "python",
   "name": "python3"
  },
  "language_info": {
   "codemirror_mode": {
    "name": "ipython",
    "version": 3
   },
   "file_extension": ".py",
   "mimetype": "text/x-python",
   "name": "python",
   "nbconvert_exporter": "python",
   "pygments_lexer": "ipython3",
   "version": "3.11.7"
  }
 },
 "nbformat": 4,
 "nbformat_minor": 5
}
